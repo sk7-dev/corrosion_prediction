{
 "cells": [
  {
   "cell_type": "code",
   "execution_count": 9,
   "id": "3b40d0c6",
   "metadata": {},
   "outputs": [],
   "source": [
    "import pandas as pd\n",
    "import numpy as np\n",
    "import xgboost as xgb\n",
    "from sklearn.metrics import mean_squared_error\n",
    "from sklearn.model_selection import train_test_split\n",
    "from sklearn.metrics import mean_squared_error, r2_score\n",
    "from sklearn.metrics import accuracy_score, classification_report, confusion_matrix"
   ]
  },
  {
   "cell_type": "code",
   "execution_count": 10,
   "id": "eb3c2fdc",
   "metadata": {},
   "outputs": [],
   "source": [
    "df1 = pd.read_csv('modelling2.csv')"
   ]
  },
  {
   "cell_type": "code",
   "execution_count": 11,
   "id": "3cb16e11",
   "metadata": {},
   "outputs": [
    {
     "data": {
      "text/plain": [
       "Index(['site_no', 'year', 'material_id', 'specimen_status', 'city', 'state',\n",
       "       'internal_drainage', 'resistivity', 'pH', 'mean_temp',\n",
       "       'annual_precipitation', 'moisture', 'areation', 'approximate_days',\n",
       "       'weight_loss_g', 'corrosion_rate', 'C_clr', 'Si_clr', 'Mn_clr', 'S_clr',\n",
       "       'P_clr', 'Cr_clr', 'Ni_clr', 'Cu_clr', 'Mo_clr', 'C', 'Si', 'Mn', 'S',\n",
       "       'P', 'Cr', 'Ni', 'Cu', 'Mo', 'Fe', 'log_days', 'moisture_res_index',\n",
       "       'log_resistivity', 'log_corrosion_rate', 'texture_Clay',\n",
       "       'texture_Clay Loam', 'texture_Loam', 'texture_Loamy Sand',\n",
       "       'texture_Marsh', 'texture_Muck', 'texture_Peat', 'texture_Sand',\n",
       "       'texture_Sandy Clay Loam', 'texture_Sandy Loam', 'texture_Silt Loam',\n",
       "       'texture_Silty Clay', 'texture_Silty Clay Loam', 'iron_type_Wrought',\n",
       "       'climate_zone_Temperate', 'internal_drainage_code', 'areation_code'],\n",
       "      dtype='object')"
      ]
     },
     "execution_count": 11,
     "metadata": {},
     "output_type": "execute_result"
    }
   ],
   "source": [
    "df1.columns"
   ]
  },
  {
   "cell_type": "code",
   "execution_count": 12,
   "id": "2ebce6bf",
   "metadata": {},
   "outputs": [],
   "source": [
    "df = df1[['log_corrosion_rate','texture_Clay', 'texture_Clay Loam', 'texture_Loam',\n",
    "       'texture_Loamy Sand', 'texture_Marsh', 'texture_Muck', 'texture_Peat',\n",
    "       'texture_Sand', 'texture_Sandy Clay Loam', 'texture_Sandy Loam',\n",
    "       'texture_Silt Loam', 'texture_Silty Clay', 'texture_Silty Clay Loam',\n",
    "       'internal_drainage_code', 'pH', 'annual_precipitation', 'log_resistivity',\n",
    "       'mean_temp', 'C', 'Si',\n",
    "       'Mn', 'S', 'P', 'Cr', 'Ni', 'Cu', 'Mo','log_days']].copy()"
   ]
  },
  {
   "cell_type": "code",
   "execution_count": 20,
   "id": "2afe8ccc",
   "metadata": {},
   "outputs": [],
   "source": [
    "df = df1[['log_corrosion_rate', 'texture_Clay',\n",
    "       'texture_Clay Loam', 'texture_Loam', 'texture_Loamy Sand',\n",
    "       'texture_Marsh', 'texture_Muck', 'texture_Peat', 'texture_Sand',\n",
    "       'texture_Sandy Clay Loam', 'texture_Sandy Loam', 'texture_Silt Loam',\n",
    "       'texture_Silty Clay', 'texture_Silty Clay Loam', 'internal_drainage_code',\n",
    "       'pH', 'annual_precipitation', 'log_resistivity', 'mean_temp', \n",
    "       'material_id_3', 'material_id_4', 'material_id_7', 'material_id_8',\n",
    "       'material_id_12', 'material_id_13', 'material_id_14', 'material_id_15',\n",
    "       'material_id_16', 'material_id_17', 'material_id_18', 'material_id_19',\n",
    "       'material_id_24', 'material_id_25', 'material_id_26', 'material_id_29',\n",
    "       'material_id_30', 'material_id_31', 'material_id_32', 'material_id_33',\n",
    "       'material_id_34', 'material_id_35', 'material_id_36', 'material_id_37',\n",
    "       'material_id_38', 'material_id_41', 'material_id_42', 'material_id_43',\n",
    "       'material_id_44', 'material_id_45', 'material_id_46', 'material_id_47',\n",
    "       'material_id_60', 'material_id_62', 'material_id_63', 'material_id_64',\n",
    "       'material_id_65', 'material_id_67', 'material_id_68', 'material_id_70',\n",
    "       'material_id_72', 'material_id_73', 'material_id_74', 'material_id_75',\n",
    "       'material_id_76', 'material_id_77', 'material_id_78', 'material_id_79',\n",
    "       'material_id_80', 'log_days']].copy()"
   ]
  },
  {
   "cell_type": "code",
   "execution_count": 5,
   "id": "89c0ffb2",
   "metadata": {},
   "outputs": [],
   "source": [
    "X = df.drop(columns=\"log_corrosion_rate\")\n",
    "y = df[\"log_corrosion_rate\"]"
   ]
  },
  {
   "cell_type": "code",
   "execution_count": null,
   "id": "d7683b22",
   "metadata": {},
   "outputs": [
    {
     "data": {
      "text/plain": [
       "['xgb_model.joblib']"
      ]
     },
     "execution_count": 16,
     "metadata": {},
     "output_type": "execute_result"
    }
   ],
   "source": [
    "import joblib\n",
    "joblib.dump(model, \"xgb_model.joblib\")"
   ]
  },
  {
   "cell_type": "code",
   "execution_count": null,
   "id": "f70c4e9b",
   "metadata": {},
   "outputs": [
    {
     "name": "stdout",
     "output_type": "stream",
     "text": [
      "Fold 1: RMSE=0.0598, R²=0.9301, best_n_estimators=2000\n",
      "Fold 2: RMSE=0.0684, R²=0.9211, best_n_estimators=2000\n",
      "Fold 3: RMSE=0.0750, R²=0.9079, best_n_estimators=2000\n",
      "Fold 4: RMSE=0.0739, R²=0.9179, best_n_estimators=2000\n",
      "Fold 5: RMSE=0.0708, R²=0.9090, best_n_estimators=2000\n",
      "\n",
      "CV Summary (5 folds)\n",
      "RMSE: mean=0.0696, std=0.0054\n",
      "R²:   mean=0.9172, std=0.0082\n",
      "Chosen n_estimators (median of folds): 2000\n",
      "\n",
      "Hold-out Test Performance\n",
      "Test RMSE: 0.0564\n",
      "Test R²:   0.9418\n"
     ]
    }
   ],
   "source": [
    "import pandas as pd\n",
    "import numpy as np\n",
    "import xgboost as xgb\n",
    "from sklearn.metrics import mean_squared_error\n",
    "from sklearn.model_selection import train_test_split\n",
    "from sklearn.metrics import mean_squared_error, r2_score\n",
    "from sklearn.metrics import accuracy_score, classification_report, confusion_matrix\n",
    "import numpy as np\n",
    "import xgboost as xgb\n",
    "from sklearn.model_selection import train_test_split, KFold\n",
    "from sklearn.metrics import mean_squared_error, r2_score\n",
    "\n",
    "df1 = pd.read_csv('modelling2.csv')\n",
    "\n",
    "df = df1[['log_corrosion_rate','texture_Clay', 'texture_Clay Loam', 'texture_Loam',\n",
    "       'texture_Loamy Sand', 'texture_Marsh', 'texture_Muck', 'texture_Peat',\n",
    "       'texture_Sand', 'texture_Sandy Clay Loam', 'texture_Sandy Loam',\n",
    "       'texture_Silt Loam', 'texture_Silty Clay', 'texture_Silty Clay Loam',\n",
    "       'internal_drainage_code', 'pH', 'annual_precipitation', 'log_resistivity',\n",
    "       'mean_temp', 'C (%)', 'Si (%)',\n",
    "       'Mn (%)', 'S (%)', 'P (%)', 'Cr (%)', 'Ni (%)', 'Cu (%)', 'Mo  (%)','log_days']].copy()\n",
    "# ----------------------------\n",
    "# Split features and target\n",
    "# ----------------------------\n",
    "X = df.drop(columns=\"log_corrosion_rate\")\n",
    "y = df[\"log_corrosion_rate\"]\n",
    " \n",
    "X_train_full, X_test, y_train_full, y_test = train_test_split(\n",
    "    X, y, test_size=0.15, random_state=42\n",
    ")\n",
    "\n",
    "# ----------------------------\n",
    "# 5-fold CV on the TRAIN split\n",
    "# ----------------------------\n",
    "kf = KFold(n_splits=5, shuffle=True, random_state=42)\n",
    "\n",
    "rmse_folds = []\n",
    "r2_folds = []\n",
    "best_n_estimators = []\n",
    "\n",
    "for fold, (tr_idx, val_idx) in enumerate(kf.split(X_train_full), start=1):\n",
    "    X_tr, X_val = X_train_full.iloc[tr_idx], X_train_full.iloc[val_idx]\n",
    "    y_tr, y_val = y_train_full.iloc[tr_idx], y_train_full.iloc[val_idx]\n",
    " \n",
    "    model = xgb.XGBRegressor(\n",
    "        random_state=42,\n",
    "        n_estimators=2000,            \n",
    "        learning_rate=0.05,\n",
    "        max_depth=6,\n",
    "        subsample=0.8,\n",
    "        colsample_bytree=0.8,\n",
    "        reg_alpha=0.0,\n",
    "        reg_lambda=1.0,\n",
    "        tree_method=\"hist\"            \n",
    "    )\n",
    "\n",
    "    model.fit(\n",
    "        X_tr, y_tr,\n",
    "        eval_set=[(X_val, y_val)],\n",
    "        verbose=False\n",
    "    )\n",
    "\n",
    "    preds = model.predict(X_val)\n",
    " \n",
    "    rmse = mean_squared_error(y_val, preds)\n",
    "    r2 = r2_score(y_val, preds)\n",
    "\n",
    "    rmse_folds.append(rmse)\n",
    "    r2_folds.append(r2)\n",
    " \n",
    "    best_n_estimators.append(model.get_params()['n_estimators'])\n",
    "\n",
    "\n",
    "    print(f\"Fold {fold}: RMSE={rmse:.4f}, R²={r2:.4f}, best_n_estimators={best_n_estimators[-1]}\")\n",
    "\n",
    "print(\"\\nCV Summary (5 folds)\")\n",
    "print(f\"RMSE: mean={np.mean(rmse_folds):.4f}, std={np.std(rmse_folds):.4f}\")\n",
    "print(f\"R²:   mean={np.mean(r2_folds):.4f}, std={np.std(r2_folds):.4f}\")\n",
    "n_best = int(np.median(best_n_estimators))\n",
    "print(f\"Chosen n_estimators (median of folds): {n_best}\")\n",
    "\n",
    "# ----------------------------\n",
    "# Final fit on all TRAIN data using chosen n_estimators\n",
    "# ----------------------------\n",
    "final_model = xgb.XGBRegressor(\n",
    "    random_state=42,\n",
    "    n_estimators=n_best,\n",
    "    learning_rate=0.05,\n",
    "    max_depth=6,\n",
    "    subsample=0.8,\n",
    "    colsample_bytree=0.8,\n",
    "    reg_alpha=0.0,\n",
    "    reg_lambda=1.0,\n",
    "    tree_method=\"hist\"\n",
    ")\n",
    "final_model.fit(X_train_full, y_train_full)\n",
    "\n",
    "# ----------------------------\n",
    "# Evaluate on the HOLD-OUT TEST set\n",
    "# ----------------------------\n",
    "y_test_pred = final_model.predict(X_test)\n",
    "rmse_test = mean_squared_error(y_test, y_test_pred)\n",
    "r2_test = r2_score(y_test, y_test_pred)\n",
    "\n",
    "print(\"\\nHold-out Test Performance\")\n",
    "print(f\"Test RMSE: {rmse_test:.4f}\")\n",
    "print(f\"Test R²:   {r2_test:.4f}\")"
   ]
  },
  {
   "cell_type": "code",
   "execution_count": null,
   "id": "4b0f156b",
   "metadata": {},
   "outputs": [],
   "source": [
    "test_results = X_test.copy()\n",
    "test_results['Actual'] = y_test.values\n",
    "test_results['Predicted'] = y_test_pred"
   ]
  },
  {
   "cell_type": "code",
   "execution_count": null,
   "id": "887cd2a9",
   "metadata": {},
   "outputs": [],
   "source": [
    "test_results.to_csv('test_results.csv', index=False)"
   ]
  }
 ],
 "metadata": {
  "kernelspec": {
   "display_name": "corr",
   "language": "python",
   "name": "python3"
  },
  "language_info": {
   "codemirror_mode": {
    "name": "ipython",
    "version": 3
   },
   "file_extension": ".py",
   "mimetype": "text/x-python",
   "name": "python",
   "nbconvert_exporter": "python",
   "pygments_lexer": "ipython3",
   "version": "3.12.6"
  }
 },
 "nbformat": 4,
 "nbformat_minor": 5
}
